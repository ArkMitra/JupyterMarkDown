{
 "cells": [
  {
   "cell_type": "markdown",
   "id": "283c9d20",
   "metadata": {},
   "source": [
    "# My Jupyter Notebook on IBM Watson Studio"
   ]
  },
  {
   "cell_type": "markdown",
   "id": "03f05a4f",
   "metadata": {},
   "source": [
    "**ARKADEEP MITRA**"
   ]
  },
  {
   "cell_type": "markdown",
   "id": "31aecf77",
   "metadata": {},
   "source": [
    "*I am interested in data science 'cause data is the heart of every organisation and the science behind data is the science behind everything.*"
   ]
  },
  {
   "cell_type": "markdown",
   "id": "5aaf6614",
   "metadata": {},
   "source": [
    "### Printing Hello World :)"
   ]
  },
  {
   "cell_type": "code",
   "execution_count": 4,
   "id": "bba14727",
   "metadata": {},
   "outputs": [
    {
     "name": "stdout",
     "output_type": "stream",
     "text": [
      "Hello World :)\n"
     ]
    }
   ],
   "source": [
    "print(\"Hello World :)\")"
   ]
  },
  {
   "cell_type": "markdown",
   "id": "842fe161",
   "metadata": {},
   "source": [
    "### Python is used because:\n",
    "1. Python is a high-level, object-oriented programming language with built-in data structures and dynamic semantics. \n",
    "2. Python supports different modules and packages, which allows program modularity and code reuse.\n",
    "3. Python is known for being robust, scalable and provides extensible visualization and graphics options. Hence it’s widely used in Data Science."
   ]
  }
 ],
 "metadata": {
  "kernelspec": {
   "display_name": "Python 3",
   "language": "python",
   "name": "python3"
  },
  "language_info": {
   "codemirror_mode": {
    "name": "ipython",
    "version": 3
   },
   "file_extension": ".py",
   "mimetype": "text/x-python",
   "name": "python",
   "nbconvert_exporter": "python",
   "pygments_lexer": "ipython3",
   "version": "3.8.8"
  }
 },
 "nbformat": 4,
 "nbformat_minor": 5
}
